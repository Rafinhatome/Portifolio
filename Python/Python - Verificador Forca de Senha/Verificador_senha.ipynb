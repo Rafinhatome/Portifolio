{
 "cells": [
  {
   "cell_type": "code",
   "execution_count": 2,
   "metadata": {},
   "outputs": [
    {
     "name": "stdout",
     "output_type": "stream",
     "text": [
      "Sua senha e muito curta. Recomenda-se no minimo 8 caracteres.\n"
     ]
    }
   ],
   "source": [
    "def verificar_forca_senha(senha):\n",
    "\n",
    "  comprimento_minimo = 8\n",
    "  tem_letra_maiuscula = False\n",
    "  tem_letra_minuscula = False\n",
    "  tem_numero = False\n",
    "  tem_caractere_especial = False\n",
    "  caracteres_especiais = \"!@#$%¨&*\"\n",
    "\n",
    "  # Verificando o comprimento da senha\n",
    "  if len(senha) < comprimento_minimo:\n",
    "    return f\"Sua senha e muito curta. Recomenda-se no minimo {comprimento_minimo} caracteres.\"\n",
    "\n",
    "  # TODO: Verifique se a senha contém letras maiúsculas e minúsculas\n",
    "  for char in senha:\n",
    "    if char.isupper():\n",
    "      tem_letra_maiuscula = True\n",
    "    elif char.islower():\n",
    "      tem_letra_minuscula = True\n",
    "    elif char.isdigit():\n",
    "      tem_numero = True\n",
    "    elif char in caracteres_especiais:\n",
    "      tem_caractere_especial = True\n",
    "\n",
    "  # Verificando se a senha contém sequências comuns\n",
    "  sequencias_comuns = [\"123456\", \"abcdef\"]\n",
    "  for sequencia in sequencias_comuns:\n",
    "    if sequencia in senha:\n",
    "      return \"Sua senha contem uma sequencia comum. Tente uma senha mais complexa.\"\n",
    "\n",
    "  # Verificando se a senha contém palavras comuns\n",
    "  palavras_comuns = [\"password\", \"123456\", \"qwerty\"]\n",
    "  if senha in palavras_comuns:\n",
    "    return \"Sua senha e muito comum. Tente uma senha mais complexa.\"\n",
    "\n",
    "  # TODO: Verificar o comprimento mínimo e critérios de validação\n",
    "  if tem_letra_maiuscula and tem_letra_minuscula and tem_numero and tem_caractere_especial:\n",
    "    return \"Sua senha atende aos requisitos de seguranca. Parabens!\"\n",
    "  else:\n",
    "    return \"Sua senha nao atende aos requisitos de seguranca.\"\n",
    "    \n",
    "# Obtendo a senha do usuário\n",
    "senha = input().strip()\n",
    "\n",
    "# Verificando a força da senha\n",
    "resultado = verificar_forca_senha(senha)\n",
    "\n",
    "# Imprimindo o resultado\n",
    "print(resultado)"
   ]
  }
 ],
 "metadata": {
  "kernelspec": {
   "display_name": "Python 3",
   "language": "python",
   "name": "python3"
  },
  "language_info": {
   "codemirror_mode": {
    "name": "ipython",
    "version": 3
   },
   "file_extension": ".py",
   "mimetype": "text/x-python",
   "name": "python",
   "nbconvert_exporter": "python",
   "pygments_lexer": "ipython3",
   "version": "3.11.5"
  }
 },
 "nbformat": 4,
 "nbformat_minor": 2
}
